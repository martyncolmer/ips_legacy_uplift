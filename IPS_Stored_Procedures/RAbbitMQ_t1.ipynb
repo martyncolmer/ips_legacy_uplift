{
 "cells": [
  {
   "cell_type": "code",
   "execution_count": 5,
   "metadata": {},
   "outputs": [],
   "source": [
    "import pika\n",
    "import json\n",
    "import pandas as pd\n",
    "\n",
    "credentials = pika.PlainCredentials('sst_user', 'XECnWyQ5z')\n",
    "parameters = pika.ConnectionParameters('rabbitmq-d-01', 5672, '/', credentials)\n",
    "connection = pika.BlockingConnection(parameters)\n",
    "channel = connection.channel()"
   ]
  },
  {
   "cell_type": "code",
   "execution_count": 6,
   "metadata": {},
   "outputs": [
    {
     "data": {
      "text/plain": [
       "True"
      ]
     },
     "execution_count": 6,
     "metadata": {},
     "output_type": "execute_result"
    }
   ],
   "source": [
    "channel.basic_publish(exchange='',\n",
    "                        routing_key='rpsls',\n",
    "                     body=json.dumps({'name':'Nassir', 'value':'paper'}))"
   ]
  }
 ],
 "metadata": {
  "kernelspec": {
   "display_name": "Python 2",
   "language": "python",
   "name": "python2"
  },
  "language_info": {
   "codemirror_mode": {
    "name": "ipython",
    "version": 2
   },
   "file_extension": ".py",
   "mimetype": "text/x-python",
   "name": "python",
   "nbconvert_exporter": "python",
   "pygments_lexer": "ipython2",
   "version": "2.7.2"
  }
 },
 "nbformat": 4,
 "nbformat_minor": 2
}
