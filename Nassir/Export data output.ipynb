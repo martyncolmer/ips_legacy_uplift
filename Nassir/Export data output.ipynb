{
 "cells": [
  {
   "cell_type": "code",
   "execution_count": 8,
   "metadata": {
    "collapsed": true
   },
   "outputs": [],
   "source": [
    "import pandas as pd\n",
    "from pandas.util.testing import assert_frame_equal\n",
    "import numpy as np\n",
    "from sas7bdat import SAS7BDAT\n",
    "import os\n",
    "from collections import OrderedDict\n",
    "import datetime"
   ]
  },
  {
   "cell_type": "code",
   "execution_count": 26,
   "metadata": {
    "collapsed": true
   },
   "outputs": [],
   "source": [
    "# -----------------------------------------------------\n",
    "# function definitions\n",
    "# -----------------------------------------------------\n",
    "\n",
    "# load sas file and convert to a pandas dataframe\n",
    "def load_sas(sasfile, encoding=\"utf8\", encoding_errors=\"replace\"):\n",
    "\n",
    "    with SAS7BDAT(sasfile, encoding=encoding,encoding_errors=encoding_errors) as sas:\n",
    "        sas = iter(sas)\n",
    "        columns = [c for c in next(sas)]\n",
    "        df = pd.DataFrame(sas, columns=columns)\n",
    "        return df"
   ]
  },
  {
   "cell_type": "code",
   "execution_count": 27,
   "metadata": {
    "collapsed": true
   },
   "outputs": [],
   "source": [
    "path = r\"\\\\nsdata3\\Social_Surveys_team\\CASPA\\IPS\\Testing\\testdata.sas7bdat\"\n",
    "path_to_survey_data = r\"\\\\nsdata3\\Social_Surveys_team\\CASPA\\IPS\\Testing\\crossingfactor\\surveydata.sas7bdat\""
   ]
  },
  {
   "cell_type": "code",
   "execution_count": 29,
   "metadata": {
    "collapsed": false
   },
   "outputs": [
    {
     "name": "stderr",
     "output_type": "stream",
     "text": [
      "[testdata.sas7bdat] column count mismatch\n",
      "[testdata.sas7bdat] column count mismatch\n",
      "[testdata.sas7bdat] column count mismatch\n",
      "[testdata.sas7bdat] column count mismatch\n",
      "[testdata.sas7bdat] column count mismatch\n",
      "[testdata.sas7bdat] column count mismatch\n",
      "[testdata.sas7bdat] column count mismatch\n"
     ]
    }
   ],
   "source": [
    "# -----------------------------------------------------\n",
    "#load sas files into dataframes\n",
    "# -----------------------------------------------------\n",
    "\n",
    "df = load_sas(path)\n"
   ]
  },
  {
   "cell_type": "code",
   "execution_count": 30,
   "metadata": {
    "collapsed": false
   },
   "outputs": [
    {
     "data": {
      "text/html": [
       "<div>\n",
       "<table border=\"1\" class=\"dataframe\">\n",
       "  <thead>\n",
       "    <tr style=\"text-align: right;\">\n",
       "      <th></th>\n",
       "      <th>Shiftno</th>\n",
       "      <th>Questno</th>\n",
       "      <th>Serial</th>\n",
       "      <th>Version</th>\n",
       "      <th>Offvers</th>\n",
       "      <th>IntType</th>\n",
       "      <th>ShiftType</th>\n",
       "      <th>CarType16</th>\n",
       "      <th>Portroute</th>\n",
       "      <th>PortRoute2</th>\n",
       "      <th>...</th>\n",
       "      <th>DVPublicEU15</th>\n",
       "      <th>DVPublicEU25</th>\n",
       "      <th>DVPublicEU27</th>\n",
       "      <th>DVPublicToTEurope</th>\n",
       "      <th>DVPublicNorthAm</th>\n",
       "      <th>DVPublicOtherCountries</th>\n",
       "      <th>AccomType</th>\n",
       "      <th>Migroute</th>\n",
       "      <th>NewTandT</th>\n",
       "      <th>NewMig</th>\n",
       "    </tr>\n",
       "  </thead>\n",
       "  <tbody>\n",
       "    <tr>\n",
       "      <th>0</th>\n",
       "      <td>2010.0</td>\n",
       "      <td>1.0</td>\n",
       "      <td>12010001.0</td>\n",
       "      <td>02a</td>\n",
       "      <td>F</td>\n",
       "      <td>1.0</td>\n",
       "      <td>1.0</td>\n",
       "      <td>None</td>\n",
       "      <td>119.0</td>\n",
       "      <td>119.0</td>\n",
       "      <td>...</td>\n",
       "      <td>1.0</td>\n",
       "      <td>None</td>\n",
       "      <td>None</td>\n",
       "      <td>NaN</td>\n",
       "      <td>NaN</td>\n",
       "      <td>1.0</td>\n",
       "      <td>NaN</td>\n",
       "      <td>NaN</td>\n",
       "      <td>NaN</td>\n",
       "      <td>None</td>\n",
       "    </tr>\n",
       "    <tr>\n",
       "      <th>1</th>\n",
       "      <td>2010.0</td>\n",
       "      <td>2.0</td>\n",
       "      <td>12010002.0</td>\n",
       "      <td>02a</td>\n",
       "      <td>F</td>\n",
       "      <td>1.0</td>\n",
       "      <td>1.0</td>\n",
       "      <td>None</td>\n",
       "      <td>119.0</td>\n",
       "      <td>119.0</td>\n",
       "      <td>...</td>\n",
       "      <td>1.0</td>\n",
       "      <td>None</td>\n",
       "      <td>None</td>\n",
       "      <td>NaN</td>\n",
       "      <td>NaN</td>\n",
       "      <td>1.0</td>\n",
       "      <td>NaN</td>\n",
       "      <td>NaN</td>\n",
       "      <td>NaN</td>\n",
       "      <td>None</td>\n",
       "    </tr>\n",
       "    <tr>\n",
       "      <th>2</th>\n",
       "      <td>2010.0</td>\n",
       "      <td>3.0</td>\n",
       "      <td>12010003.0</td>\n",
       "      <td>02a</td>\n",
       "      <td>F</td>\n",
       "      <td>1.0</td>\n",
       "      <td>1.0</td>\n",
       "      <td>None</td>\n",
       "      <td>119.0</td>\n",
       "      <td>119.0</td>\n",
       "      <td>...</td>\n",
       "      <td>1.0</td>\n",
       "      <td>None</td>\n",
       "      <td>None</td>\n",
       "      <td>NaN</td>\n",
       "      <td>NaN</td>\n",
       "      <td>1.0</td>\n",
       "      <td>NaN</td>\n",
       "      <td>NaN</td>\n",
       "      <td>NaN</td>\n",
       "      <td>None</td>\n",
       "    </tr>\n",
       "    <tr>\n",
       "      <th>3</th>\n",
       "      <td>2010.0</td>\n",
       "      <td>4.0</td>\n",
       "      <td>12010004.0</td>\n",
       "      <td>02a</td>\n",
       "      <td>F</td>\n",
       "      <td>1.0</td>\n",
       "      <td>1.0</td>\n",
       "      <td>None</td>\n",
       "      <td>119.0</td>\n",
       "      <td>119.0</td>\n",
       "      <td>...</td>\n",
       "      <td>1.0</td>\n",
       "      <td>None</td>\n",
       "      <td>None</td>\n",
       "      <td>NaN</td>\n",
       "      <td>NaN</td>\n",
       "      <td>1.0</td>\n",
       "      <td>NaN</td>\n",
       "      <td>NaN</td>\n",
       "      <td>NaN</td>\n",
       "      <td>None</td>\n",
       "    </tr>\n",
       "    <tr>\n",
       "      <th>4</th>\n",
       "      <td>2010.0</td>\n",
       "      <td>5.0</td>\n",
       "      <td>12010005.0</td>\n",
       "      <td>02a</td>\n",
       "      <td>F</td>\n",
       "      <td>1.0</td>\n",
       "      <td>1.0</td>\n",
       "      <td>None</td>\n",
       "      <td>119.0</td>\n",
       "      <td>119.0</td>\n",
       "      <td>...</td>\n",
       "      <td>1.0</td>\n",
       "      <td>None</td>\n",
       "      <td>None</td>\n",
       "      <td>NaN</td>\n",
       "      <td>NaN</td>\n",
       "      <td>1.0</td>\n",
       "      <td>NaN</td>\n",
       "      <td>NaN</td>\n",
       "      <td>NaN</td>\n",
       "      <td>None</td>\n",
       "    </tr>\n",
       "  </tbody>\n",
       "</table>\n",
       "<p>5 rows × 660 columns</p>\n",
       "</div>"
      ],
      "text/plain": [
       "   Shiftno  Questno      Serial Version Offvers  IntType  ShiftType CarType16  \\\n",
       "0   2010.0      1.0  12010001.0     02a       F      1.0        1.0      None   \n",
       "1   2010.0      2.0  12010002.0     02a       F      1.0        1.0      None   \n",
       "2   2010.0      3.0  12010003.0     02a       F      1.0        1.0      None   \n",
       "3   2010.0      4.0  12010004.0     02a       F      1.0        1.0      None   \n",
       "4   2010.0      5.0  12010005.0     02a       F      1.0        1.0      None   \n",
       "\n",
       "   Portroute  PortRoute2  ...   DVPublicEU15 DVPublicEU25  DVPublicEU27  \\\n",
       "0      119.0       119.0  ...            1.0         None          None   \n",
       "1      119.0       119.0  ...            1.0         None          None   \n",
       "2      119.0       119.0  ...            1.0         None          None   \n",
       "3      119.0       119.0  ...            1.0         None          None   \n",
       "4      119.0       119.0  ...            1.0         None          None   \n",
       "\n",
       "   DVPublicToTEurope  DVPublicNorthAm DVPublicOtherCountries  AccomType  \\\n",
       "0                NaN              NaN                    1.0        NaN   \n",
       "1                NaN              NaN                    1.0        NaN   \n",
       "2                NaN              NaN                    1.0        NaN   \n",
       "3                NaN              NaN                    1.0        NaN   \n",
       "4                NaN              NaN                    1.0        NaN   \n",
       "\n",
       "   Migroute  NewTandT NewMig  \n",
       "0       NaN       NaN   None  \n",
       "1       NaN       NaN   None  \n",
       "2       NaN       NaN   None  \n",
       "3       NaN       NaN   None  \n",
       "4       NaN       NaN   None  \n",
       "\n",
       "[5 rows x 660 columns]"
      ]
     },
     "execution_count": 30,
     "metadata": {},
     "output_type": "execute_result"
    }
   ],
   "source": [
    "df.head()"
   ]
  },
  {
   "cell_type": "code",
   "execution_count": 4,
   "metadata": {
    "collapsed": true
   },
   "outputs": [],
   "source": [
    "dbase = Null\n",
    "gparam_table_name = Null\n",
    "parameter_set_id = Null\n",
    "schema = Null\n",
    "\n",
    "#global \n",
    "stopsas=0\n",
    "\n",
    "#options \n",
    "validvarname = \"any\"\n",
    "\n",
    "#options\n",
    "compress = \"no\"\n",
    "validvarname = \"any\"\n",
    "\n",
    "return_code = 0\n",
    "ons_sys = IPS\n",
    "execmode = 1\n",
    "\n",
    "schema= \"ips_1_poweld2_data\"\n",
    "dbase= \"DEVCON\"\n",
    "parameter_set_id= 17\n",
    "gparam_table_name = \"ora_data.sas_parameters\"\n",
    "\n",
    "# enter create_exprot_data_output() macro\n",
    "\n",
    "level = 0\n",
    "printlog = 0\n",
    "#MAUTOSOURCE SASAUTOS=(SASAUTOS,\"&ipspath\",\"&utilspath\");\n",
    "\n",
    "# TODO: format this as required to exact SAS format (if required)\n",
    "current = datetime.datetime.now()\n",
    "\n",
    "max_text = 32767;\n",
    "DBMAX_TEXT = 32767;\n",
    "\n",
    "# connect to Oracle database\n",
    "# unload_parameters\n",
    "# check that all parameters have been passed in (if required)\n",
    "# ips_error_check\n",
    "\n",
    "export_tables_count = 10\n",
    "\n",
    "SAS or CSV format to choose in ui\n",
    "validate input\n",
    "\n",
    "\n",
    "%create_export_data_sas();\n",
    "%create_export_data_csv()\n",
    "\n",
    "# converts to blob depending on SAS or csv file\n",
    "%ips_sqload(userid=&userid,pword=&pword,\n",
    "           dbname=&dbname,tablename=&export_table,filetostore=&datafile);\n",
    "\n",
    "# connect to oracle\n",
    "# unload parameters\n",
    "\n",
    "# take in table input\n",
    "# convert to SAS or CSV as required\n",
    "# convert to blob format suitable for input into Oracle\n",
    "\n",
    "# put back into Oracle\n"
   ]
  },
  {
   "cell_type": "code",
   "execution_count": 7,
   "metadata": {
    "collapsed": false
   },
   "outputs": [
    {
     "ename": "NameError",
     "evalue": "name 'Export_tables_count' is not defined",
     "output_type": "error",
     "traceback": [
      "\u001b[1;31m---------------------------------------------------------------------------\u001b[0m",
      "\u001b[1;31mNameError\u001b[0m                                 Traceback (most recent call last)",
      "\u001b[1;32m<ipython-input-7-8c10d54d9f28>\u001b[0m in \u001b[0;36m<module>\u001b[1;34m()\u001b[0m\n\u001b[1;32m----> 1\u001b[1;33m \u001b[1;32mfor\u001b[0m \u001b[0mi\u001b[0m \u001b[1;32min\u001b[0m \u001b[0mrange\u001b[0m\u001b[1;33m(\u001b[0m\u001b[1;36m1\u001b[0m\u001b[1;33m,\u001b[0m \u001b[0mExport_tables_count\u001b[0m\u001b[1;33m)\u001b[0m\u001b[1;33m:\u001b[0m\u001b[1;33m\u001b[0m\u001b[0m\n\u001b[0m\u001b[0;32m      2\u001b[0m     \u001b[0mprint\u001b[0m\u001b[1;33m(\u001b[0m\u001b[0mi\u001b[0m\u001b[1;33m)\u001b[0m\u001b[1;33m\u001b[0m\u001b[0m\n",
      "\u001b[1;31mNameError\u001b[0m: name 'Export_tables_count' is not defined"
     ]
    }
   ],
   "source": [
    "for i in range(1, Export_tables_count):\n",
    "    print(i)"
   ]
  },
  {
   "cell_type": "code",
   "execution_count": 34,
   "metadata": {
    "collapsed": false
   },
   "outputs": [
    {
     "data": {
      "text/plain": [
       "datetime.time(14, 32, 39, 908000)"
      ]
     },
     "execution_count": 34,
     "metadata": {},
     "output_type": "execute_result"
    }
   ],
   "source": [
    "current = datetime.datetime.now().time()\n",
    "current"
   ]
  }
 ],
 "metadata": {
  "anaconda-cloud": {},
  "kernelspec": {
   "display_name": "Python [Root]",
   "language": "python",
   "name": "Python [Root]"
  },
  "language_info": {
   "codemirror_mode": {
    "name": "ipython",
    "version": 3
   },
   "file_extension": ".py",
   "mimetype": "text/x-python",
   "name": "python",
   "nbconvert_exporter": "python",
   "pygments_lexer": "ipython3",
   "version": "3.5.1"
  }
 },
 "nbformat": 4,
 "nbformat_minor": 0
}
